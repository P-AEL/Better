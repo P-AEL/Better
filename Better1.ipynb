{
 "cells": [
  {
   "cell_type": "code",
   "execution_count": 10,
   "metadata": {},
   "outputs": [],
   "source": [
    "import requests\n",
    "from bs4 import BeautifulSoup\n",
    "\n",
    "url = \"https://sports.tipico.de/de/alle/american-football/usa/nfl\"\n",
    "response = requests.get(url)\n",
    "soup = BeautifulSoup(response.content, \"html.parser\")\n",
    "\n",
    "wetteinsaetze = []\n",
    "\n",
    "bet_elements = soup.find_all(\"div\", class_=\"EventDateHeader-styles-event-date-header\")\n",
    "\n",
    "for bet_element in bet_elements:\n",
    "    h1_text = bet_element.text\n",
    "    print(h1_text)\n",
    "#text = bet_elements.text.strip()\n",
    "\n",
    "#print(text)\n",
    "\n",
    "# for element in bet_elements:\n",
    "#     wetteinsatz = element.find(\"div\", class_=\"component_bet-row__name\").text.strip()\n",
    "#     wetteinsaetze.append(wetteinsatz)\n",
    "\n",
    "# for einsatz in wetteinsaetze:\n",
    "#     print(einsatz)"
   ]
  },
  {
   "cell_type": "code",
   "execution_count": 11,
   "metadata": {},
   "outputs": [
    {
     "data": {
      "text/plain": [
       "[]"
      ]
     },
     "execution_count": 11,
     "metadata": {},
     "output_type": "execute_result"
    }
   ],
   "source": [
    "bet_elements"
   ]
  },
  {
   "cell_type": "code",
   "execution_count": null,
   "metadata": {},
   "outputs": [],
   "source": [
    "<div class=\"EventDateHeader-styles-event-date-header\" data-testid=\"event-date-header\">Freitag, 08.09</div>"
   ]
  },
  {
   "cell_type": "code",
   "execution_count": null,
   "metadata": {},
   "outputs": [],
   "source": [
    "from selenium import webdriver\n",
    "\n",
    "# Starte den Chrome Webdriver (du musst den Webdriver installieren und den Pfad entsprechend anpassen)\n",
    "driver = webdriver.Chrome('/path/to/chromedriver')\n",
    "\n",
    "# Lade die Webseite\n",
    "driver.get('https://example.com')\n",
    "\n",
    "# Finde das <div> Element mit der angegebenen Klasse\n",
    "div_element = driver.find_element_by_class_name('EventDateHeader-styles-event-date-header')\n",
    "\n",
    "# Zugriff auf den Textinhalt des <div> Elements\n",
    "div_text = div_element.text\n",
    "print(div_text)\n",
    "\n",
    "# Schließe den Webdriver\n",
    "driver.quit()"
   ]
  }
 ],
 "metadata": {
  "kernelspec": {
   "display_name": "Python 3",
   "language": "python",
   "name": "python3"
  },
  "language_info": {
   "codemirror_mode": {
    "name": "ipython",
    "version": 3
   },
   "file_extension": ".py",
   "mimetype": "text/x-python",
   "name": "python",
   "nbconvert_exporter": "python",
   "pygments_lexer": "ipython3",
   "version": "3.10.11"
  },
  "orig_nbformat": 4
 },
 "nbformat": 4,
 "nbformat_minor": 2
}
