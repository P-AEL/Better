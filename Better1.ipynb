{
 "cells": [
  {
   "cell_type": "code",
   "execution_count": 10,
   "metadata": {},
   "outputs": [],
   "source": [
    "# import requests\n",
    "# from bs4 import BeautifulSoup\n",
    "\n",
    "# url = \"https://sports.tipico.de/de/alle/american-football/usa/nfl\"\n",
    "# response = requests.get(url)\n",
    "# soup = BeautifulSoup(response.content, \"html.parser\")\n",
    "\n",
    "# wetteinsaetze = []\n",
    "\n",
    "# bet_elements = soup.find_all(\"div\", class_=\"EventDateHeader-styles-event-date-header\")\n",
    "\n",
    "# for bet_element in bet_elements:\n",
    "#     h1_text = bet_element.text\n",
    "#     print(h1_text)\n",
    "# #text = bet_elements.text.strip()\n",
    "\n",
    "# #print(text)\n",
    "\n",
    "# # for element in bet_elements:\n",
    "# #     wetteinsatz = element.find(\"div\", class_=\"component_bet-row__name\").text.strip()\n",
    "# #     wetteinsaetze.append(wetteinsatz)\n",
    "\n",
    "# # for einsatz in wetteinsaetze:\n",
    "# #     print(einsatz)"
   ]
  },
  {
   "cell_type": "code",
   "execution_count": null,
   "metadata": {},
   "outputs": [],
   "source": [
    "<div class=\"EventDateHeader-styles-event-date-header\" data-testid=\"event-date-header\">Freitag, 08.09</div>"
   ]
  },
  {
   "cell_type": "code",
   "execution_count": null,
   "metadata": {},
   "outputs": [],
   "source": [
    "from selenium import webdriver\n",
    "import time\n",
    "\n",
    "# Starte den Chrome Webdriver (du musst den Webdriver installieren und den Pfad entsprechend anpassen)\n",
    "driver = webdriver.Chrome('/path/to/chromedriver')\n",
    "\n",
    "# Lade die Webseite\n",
    "driver.get('https://sports.tipico.de/de/alle/american-football/usa/nfl')\n",
    "\n",
    "# Finde das <div> Element mit der angegebenen Klasse\n",
    "div_element = driver.find_element_by_class_name('EventDateHeader-styles-event-date-header')\n",
    "\n",
    "# Zugriff auf den Textinhalt des <div> Elements\n",
    "div_text = div_element.text\n",
    "print(div_text)\n",
    "\n",
    "# Schließe den Webdriver\n",
    "driver.quit()"
   ]
  },
  {
   "cell_type": "code",
   "execution_count": 4,
   "metadata": {},
   "outputs": [],
   "source": [
    "from selenium import webdriver\n",
    "import time\n",
    "web = 'https://sports.tipico.de/de/alle/american-football/usa/nfl' #you can choose any other league\n",
    "path = 'D:\\\\Users\\\\paulh\\\\Downloads\\\\chromedriver_win32\\\\chromedriver.exe'"
   ]
  },
  {
   "cell_type": "code",
   "execution_count": 26,
   "metadata": {},
   "outputs": [
    {
     "name": "stderr",
     "output_type": "stream",
     "text": [
      "C:\\Users\\paulh\\AppData\\Local\\Temp\\ipykernel_6232\\2593121857.py:1: DeprecationWarning: executable_path has been deprecated, please pass in a Service object\n",
      "  driver = webdriver.Chrome(path)\n"
     ]
    }
   ],
   "source": [
    "driver = webdriver.Chrome(path)\n",
    "driver.get(web)\n",
    "time.sleep(5) #add implicit wait, if necessary\n",
    "accept = driver.find_element(by='xpath', value='//*[@id=\"_evidon-accept-button\"]')\n",
    "accept.click()\n",
    "time.sleep(3) #add implicit wait, if necessary\n",
    "accept1 = driver.find_element(by='xpath', value='//*[@id=\"app\"]/main/main/section/div/div[1]/div/div/div/div[5]/div[2]/div')\n",
    "accept1.click()"
   ]
  },
  {
   "cell_type": "code",
   "execution_count": null,
   "metadata": {},
   "outputs": [],
   "source": [
    "<button id=\"_evidon-accept-button\" class=\"evidon-banner-acceptbutton\" aria-label=\"Accept\" style=\"padding: 6px 16px; cursor: pointer; border-radius: 4px; border: 2px solid rgb(77, 144, 167); font-size: 15px; background: rgb(77, 144, 167); color: rgb(255, 255, 255); order: 2; margin: 0px;\">Ich stimme zu</button>"
   ]
  },
  {
   "cell_type": "code",
   "execution_count": null,
   "metadata": {},
   "outputs": [],
   "source": [
    "//*[@id=\"_evidon-accept-button\"]"
   ]
  },
  {
   "cell_type": "code",
   "execution_count": null,
   "metadata": {},
   "outputs": [],
   "source": [
    "//*[@id=\"app\"]/main/main/section/div/div[1]/div/div/div/div[5]/div[2]/div"
   ]
  },
  {
   "cell_type": "code",
   "execution_count": 19,
   "metadata": {},
   "outputs": [
    {
     "ename": "AttributeError",
     "evalue": "'WebDriver' object has no attribute 'find_element_by_xpath'",
     "output_type": "error",
     "traceback": [
      "\u001b[1;31m---------------------------------------------------------------------------\u001b[0m",
      "\u001b[1;31mAttributeError\u001b[0m                            Traceback (most recent call last)",
      "\u001b[1;32md:\\Users\\paulh\\Desktop\\Better\\Better1.ipynb Cell 9\u001b[0m in \u001b[0;36m<cell line: 1>\u001b[1;34m()\u001b[0m\n\u001b[1;32m----> <a href='vscode-notebook-cell:/d%3A/Users/paulh/Desktop/Better/Better1.ipynb#W6sZmlsZQ%3D%3D?line=0'>1</a>\u001b[0m element \u001b[39m=\u001b[39m driver\u001b[39m.\u001b[39;49mfind_element_by_xpath(\u001b[39m'\u001b[39m\u001b[39m//div[@class=\u001b[39m\u001b[39m\"\u001b[39m\u001b[39myour-class-name\u001b[39m\u001b[39m\"\u001b[39m\u001b[39m]\u001b[39m\u001b[39m'\u001b[39m)\n",
      "\u001b[1;31mAttributeError\u001b[0m: 'WebDriver' object has no attribute 'find_element_by_xpath'"
     ]
    }
   ],
   "source": [
    "time.sleep(3) #add implicit wait, if necessary\n",
    "accept = driver.find_element(xpath=('//*[@id=\"_evidon-accept-button\"]'))\n"
   ]
  },
  {
   "cell_type": "code",
   "execution_count": 23,
   "metadata": {},
   "outputs": [],
   "source": [
    "accept = driver.find_element(by='xpath', value='//*[@id=\"_evidon-accept-button\"]')\n",
    "accept.click()"
   ]
  },
  {
   "cell_type": "code",
   "execution_count": 27,
   "metadata": {},
   "outputs": [],
   "source": [
    "driver.quit()"
   ]
  }
 ],
 "metadata": {
  "kernelspec": {
   "display_name": "Python 3",
   "language": "python",
   "name": "python3"
  },
  "language_info": {
   "codemirror_mode": {
    "name": "ipython",
    "version": 3
   },
   "file_extension": ".py",
   "mimetype": "text/x-python",
   "name": "python",
   "nbconvert_exporter": "python",
   "pygments_lexer": "ipython3",
   "version": "3.10.11"
  },
  "orig_nbformat": 4
 },
 "nbformat": 4,
 "nbformat_minor": 2
}
