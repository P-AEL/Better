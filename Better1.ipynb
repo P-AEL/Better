{
 "cells": [
  {
   "cell_type": "code",
   "execution_count": 2,
   "metadata": {},
   "outputs": [],
   "source": [
    "from datetime import datetime\n",
    "from selenium import webdriver\n",
    "import time\n",
    "from selenium.webdriver.chrome.service import Service\n",
    "import pandas as pd\n",
    "\n",
    "web = 'https://sports.tipico.de/de/alle/american-football/usa/nfl' #you can choose any other league\n",
    "path = 'D:\\\\Users\\\\paulh\\\\Downloads\\\\chromedriver_win32\\\\chromedriver.exe'\n",
    "service = Service(path)"
   ]
  },
  {
   "cell_type": "code",
   "execution_count": 3,
   "metadata": {},
   "outputs": [],
   "source": [
    "driver = webdriver.Chrome(service=service)\n",
    "driver.get(web)\n",
    "time.sleep(5) #add implicit wait, if necessary\n",
    "accept = driver.find_element(by='xpath', value='//*[@id=\"_evidon-accept-button\"]')\n",
    "accept.click()\n",
    "time.sleep(3) #add implicit wait, if necessary\n",
    "# accept1 = driver.find_element(by='xpath', value='//*[@id=\"app\"]/main/main/section/div/div[1]/div/div/div/div[5]/div[2]/div')\n",
    "# accept1.click()\n",
    "div_element = driver.find_element(by=\"xpath\",value='//*[@id=\"app\"]/main/main/section/div/div[1]/div/div/div')\n",
    "elements = div_element.find_elements(by=\"css selector\",value='*')"
   ]
  },
  {
   "cell_type": "code",
   "execution_count": 4,
   "metadata": {},
   "outputs": [],
   "source": [
    "liste = []\n",
    "for element in elements:\n",
    "    liste.append(element.find_elements(by=\"css selector\",value='*'))"
   ]
  },
  {
   "cell_type": "code",
   "execution_count": 5,
   "metadata": {},
   "outputs": [],
   "source": [
    "liste = []\n",
    "for element in elements:\n",
    "    liste.append(element.find_elements(by=\"css selector\",value='*'))\n",
    "important_elements = {}\n",
    "for element in elements:\n",
    "    class_name = element.get_attribute('class')\n",
    "    if class_name == 'EventDateHeader-styles-event-date-header':\n",
    "        abbreviation = element.text\n",
    "        important_elements[abbreviation] = []\n",
    "    elif class_name == 'EventRow-styles-event-row':\n",
    "        important_elements[abbreviation].append(element.text)"
   ]
  },
  {
   "cell_type": "code",
   "execution_count": 6,
   "metadata": {},
   "outputs": [
    {
     "name": "stdout",
     "output_type": "stream",
     "text": [
      "['02:20', 'Kansas City Chiefs', 'Detroit Lions', '1,32', '3,30']\n",
      "['19:00', 'Atlanta Falcons', 'Carolina Panthers', '1,65', '2,20']\n",
      "['19:00', 'Baltimore Ravens', 'Houston Texans', '1,22', '4,10']\n",
      "['19:00', 'Cleveland Browns', 'Cincinnati Bengals', '2,05', '1,75']\n",
      "['19:00', 'Indianapolis Colts', 'Jacksonville Jaguars', '2,40', '1,55']\n",
      "['19:00', 'Minnesota Vikings', 'Tampa Bay Buccan.', '1,32', '3,30']\n",
      "['19:00', 'New Orleans Saints', 'Tennessee Titans', '1,52', '2,50']\n",
      "['19:00', 'Pittsburgh Steelers', 'San Francisco 49ers', '2,20', '1,65']\n"
     ]
    }
   ],
   "source": [
    "columns = ['Time', 'Team1', 'Team2', '1', '2','Date','market']\n",
    "df = pd.DataFrame(columns=columns)\n",
    "for i in important_elements:\n",
    "    #print(important_elements[i].__len__()) \n",
    "    for j in important_elements[i]:\n",
    "        data = j.strip().split('\\n')[0:5]\n",
    "        print(data)\n",
    "        data.append(i)\n",
    "        data.append('tipico')\n",
    "        df1 = pd.DataFrame([data], columns=columns)\n",
    "        df = pd.concat([df, df1], ignore_index=True)\n",
    "driver.quit()"
   ]
  },
  {
   "cell_type": "code",
   "execution_count": 7,
   "metadata": {},
   "outputs": [
    {
     "data": {
      "text/html": [
       "<div>\n",
       "<style scoped>\n",
       "    .dataframe tbody tr th:only-of-type {\n",
       "        vertical-align: middle;\n",
       "    }\n",
       "\n",
       "    .dataframe tbody tr th {\n",
       "        vertical-align: top;\n",
       "    }\n",
       "\n",
       "    .dataframe thead th {\n",
       "        text-align: right;\n",
       "    }\n",
       "</style>\n",
       "<table border=\"1\" class=\"dataframe\">\n",
       "  <thead>\n",
       "    <tr style=\"text-align: right;\">\n",
       "      <th></th>\n",
       "      <th>Time</th>\n",
       "      <th>Team1</th>\n",
       "      <th>Team2</th>\n",
       "      <th>1</th>\n",
       "      <th>2</th>\n",
       "      <th>Date</th>\n",
       "      <th>market</th>\n",
       "    </tr>\n",
       "  </thead>\n",
       "  <tbody>\n",
       "    <tr>\n",
       "      <th>0</th>\n",
       "      <td>02:20</td>\n",
       "      <td>Kansas City Chiefs</td>\n",
       "      <td>Detroit Lions</td>\n",
       "      <td>1,32</td>\n",
       "      <td>3,30</td>\n",
       "      <td>Freitag, 08.09</td>\n",
       "      <td>tipico</td>\n",
       "    </tr>\n",
       "    <tr>\n",
       "      <th>1</th>\n",
       "      <td>19:00</td>\n",
       "      <td>Atlanta Falcons</td>\n",
       "      <td>Carolina Panthers</td>\n",
       "      <td>1,65</td>\n",
       "      <td>2,20</td>\n",
       "      <td>Sonntag, 10.09</td>\n",
       "      <td>tipico</td>\n",
       "    </tr>\n",
       "    <tr>\n",
       "      <th>2</th>\n",
       "      <td>19:00</td>\n",
       "      <td>Baltimore Ravens</td>\n",
       "      <td>Houston Texans</td>\n",
       "      <td>1,22</td>\n",
       "      <td>4,10</td>\n",
       "      <td>Sonntag, 10.09</td>\n",
       "      <td>tipico</td>\n",
       "    </tr>\n",
       "    <tr>\n",
       "      <th>3</th>\n",
       "      <td>19:00</td>\n",
       "      <td>Cleveland Browns</td>\n",
       "      <td>Cincinnati Bengals</td>\n",
       "      <td>2,05</td>\n",
       "      <td>1,75</td>\n",
       "      <td>Sonntag, 10.09</td>\n",
       "      <td>tipico</td>\n",
       "    </tr>\n",
       "    <tr>\n",
       "      <th>4</th>\n",
       "      <td>19:00</td>\n",
       "      <td>Indianapolis Colts</td>\n",
       "      <td>Jacksonville Jaguars</td>\n",
       "      <td>2,40</td>\n",
       "      <td>1,55</td>\n",
       "      <td>Sonntag, 10.09</td>\n",
       "      <td>tipico</td>\n",
       "    </tr>\n",
       "    <tr>\n",
       "      <th>5</th>\n",
       "      <td>19:00</td>\n",
       "      <td>Minnesota Vikings</td>\n",
       "      <td>Tampa Bay Buccan.</td>\n",
       "      <td>1,32</td>\n",
       "      <td>3,30</td>\n",
       "      <td>Sonntag, 10.09</td>\n",
       "      <td>tipico</td>\n",
       "    </tr>\n",
       "    <tr>\n",
       "      <th>6</th>\n",
       "      <td>19:00</td>\n",
       "      <td>New Orleans Saints</td>\n",
       "      <td>Tennessee Titans</td>\n",
       "      <td>1,52</td>\n",
       "      <td>2,50</td>\n",
       "      <td>Sonntag, 10.09</td>\n",
       "      <td>tipico</td>\n",
       "    </tr>\n",
       "    <tr>\n",
       "      <th>7</th>\n",
       "      <td>19:00</td>\n",
       "      <td>Pittsburgh Steelers</td>\n",
       "      <td>San Francisco 49ers</td>\n",
       "      <td>2,20</td>\n",
       "      <td>1,65</td>\n",
       "      <td>Sonntag, 10.09</td>\n",
       "      <td>tipico</td>\n",
       "    </tr>\n",
       "  </tbody>\n",
       "</table>\n",
       "</div>"
      ],
      "text/plain": [
       "    Time                Team1                 Team2     1     2  \\\n",
       "0  02:20   Kansas City Chiefs         Detroit Lions  1,32  3,30   \n",
       "1  19:00      Atlanta Falcons     Carolina Panthers  1,65  2,20   \n",
       "2  19:00     Baltimore Ravens        Houston Texans  1,22  4,10   \n",
       "3  19:00     Cleveland Browns    Cincinnati Bengals  2,05  1,75   \n",
       "4  19:00   Indianapolis Colts  Jacksonville Jaguars  2,40  1,55   \n",
       "5  19:00    Minnesota Vikings     Tampa Bay Buccan.  1,32  3,30   \n",
       "6  19:00   New Orleans Saints      Tennessee Titans  1,52  2,50   \n",
       "7  19:00  Pittsburgh Steelers   San Francisco 49ers  2,20  1,65   \n",
       "\n",
       "             Date  market  \n",
       "0  Freitag, 08.09  tipico  \n",
       "1  Sonntag, 10.09  tipico  \n",
       "2  Sonntag, 10.09  tipico  \n",
       "3  Sonntag, 10.09  tipico  \n",
       "4  Sonntag, 10.09  tipico  \n",
       "5  Sonntag, 10.09  tipico  \n",
       "6  Sonntag, 10.09  tipico  \n",
       "7  Sonntag, 10.09  tipico  "
      ]
     },
     "execution_count": 7,
     "metadata": {},
     "output_type": "execute_result"
    }
   ],
   "source": [
    "df"
   ]
  },
  {
   "cell_type": "code",
   "execution_count": 8,
   "metadata": {},
   "outputs": [],
   "source": [
    "web = 'https://sports.betway.de/de/sports/cat/american-football' #you can choose any other league\n",
    "path = 'D:\\\\Users\\\\paulh\\\\Downloads\\\\chromedriver_win32\\\\chromedriver.exe'\n",
    "service = Service(path)"
   ]
  },
  {
   "cell_type": "code",
   "execution_count": 9,
   "metadata": {},
   "outputs": [],
   "source": [
    "driver = webdriver.Chrome(service=service)\n",
    "driver.get(web)\n",
    "# time.sleep(5) #add implicit wait, if necessary\n",
    "# accept = driver.find_element(by='xpath', value='//*[@id=\"_evidon-accept-button\"]')\n",
    "# accept.click()\n",
    "# time.sleep(3) #add implicit wait, if necessary\n",
    "# # accept1 = driver.find_element(by='xpath', value='//*[@id=\"app\"]/main/main/section/div/div[1]/div/div/div/div[5]/div[2]/div')\n",
    "# # accept1.click()\n",
    "div_element = driver.find_element(by=\"xpath\",value='/html/body/div[1]/div/div[3]/div/div[1]/div/div[2]/div[4]/div/div[2]/div/div[3]/div/div[2]/div/div[3]/div[2]/div')\n",
    "#elements = div_element.find_elements(by=\"css selector\",value='*')"
   ]
  },
  {
   "cell_type": "code",
   "execution_count": 10,
   "metadata": {},
   "outputs": [],
   "source": [
    "elements = div_element.find_elements(by=\"css selector\",value='.collapsablePanel')"
   ]
  },
  {
   "cell_type": "code",
   "execution_count": 11,
   "metadata": {},
   "outputs": [
    {
     "data": {
      "text/plain": [
       "[<selenium.webdriver.remote.webelement.WebElement (session=\"f0aef0c58808d6874bed7de3dcea886e\", element=\"0E9875ADB22BCFA80AC045F51B66011E_element_39\")>,\n",
       " <selenium.webdriver.remote.webelement.WebElement (session=\"f0aef0c58808d6874bed7de3dcea886e\", element=\"0E9875ADB22BCFA80AC045F51B66011E_element_40\")>,\n",
       " <selenium.webdriver.remote.webelement.WebElement (session=\"f0aef0c58808d6874bed7de3dcea886e\", element=\"0E9875ADB22BCFA80AC045F51B66011E_element_41\")>,\n",
       " <selenium.webdriver.remote.webelement.WebElement (session=\"f0aef0c58808d6874bed7de3dcea886e\", element=\"0E9875ADB22BCFA80AC045F51B66011E_element_42\")>]"
      ]
     },
     "execution_count": 11,
     "metadata": {},
     "output_type": "execute_result"
    }
   ],
   "source": [
    "elements"
   ]
  },
  {
   "cell_type": "code",
   "execution_count": 12,
   "metadata": {},
   "outputs": [],
   "source": [
    "columns = ['Time', 'Team1', 'Team2', '1', '2','Date','market']"
   ]
  },
  {
   "cell_type": "code",
   "execution_count": 13,
   "metadata": {},
   "outputs": [
    {
     "name": "stdout",
     "output_type": "stream",
     "text": [
      "Fr, 8.Sep\n",
      "So, 10.Sep\n",
      "Mo, 11.Sep\n",
      "Di, 12.Sep\n"
     ]
    }
   ],
   "source": [
    "for i in range(elements.__len__()):\n",
    "    print(elements[i].find_element(by=\"css selector\",value='.titleText').text)\n",
    "    for j in range(elements[i].find_elements(by=\"css selector\",value='.eventDetails').__len__()):\n",
    "       \n",
    "        liste = elements[i].find_elements(by=\"css selector\",value='.eventDetails')[j].text.split('\\n')[0:1]+elements[i].find_elements(by=\"css selector\",value='.eventDetails')[j].text.split('\\n')[1].split(' @ ')\n",
    "        liste = liste + elements[i].find_elements(by=\"css selector\",value='.eventMarket')[j].text.split('\\n')[1::2]\n",
    "        liste.append(elements[i].find_element(by=\"css selector\",value='.titleText').text)\n",
    "        liste.append('betway')\n",
    "        df1 = pd.DataFrame([liste], columns=columns)\n",
    "        df = pd.concat([df, df1], ignore_index=True)\n",
    "    #liste.append(element.find_elements(by=\"css selector\",value='*'))"
   ]
  },
  {
   "cell_type": "code",
   "execution_count": 15,
   "metadata": {},
   "outputs": [],
   "source": [
    "def date_convert(x):\n",
    "    aktuelles_jahr = datetime.today().year\n",
    "    x = x.split(', ')[1]\n",
    "    y= x.split('.')\n",
    "    a = y[0]\n",
    "    b = y[1]\n",
    "    if b.isdigit():\n",
    "        a = int(y[0])\n",
    "        b = int(y[1])\n",
    "        datum = datetime(aktuelles_jahr, b, a)\n",
    "    else:\n",
    "        eingabe_format = \"%d.%b\"\n",
    "        string_datum_mit_jahr = f\"{x}.{aktuelles_jahr}\"\n",
    "        datum = datetime.strptime(string_datum_mit_jahr, eingabe_format + \".%Y\")\n",
    "    \n",
    "    return datum"
   ]
  },
  {
   "cell_type": "code",
   "execution_count": 16,
   "metadata": {},
   "outputs": [],
   "source": [
    "df['Date'] = df['Date'].apply(date_convert)"
   ]
  },
  {
   "cell_type": "code",
   "execution_count": 26,
   "metadata": {},
   "outputs": [],
   "source": [
    "temp = df.loc[df.market == \"betway\", \"1\"].copy()\n",
    "df.loc[df.market == \"betway\", \"1\"] = df.loc[df.market == \"betway\", \"2\"]\n",
    "df.loc[df.market == \"betway\", \"2\"] = temp"
   ]
  },
  {
   "cell_type": "code",
   "execution_count": 28,
   "metadata": {},
   "outputs": [],
   "source": [
    "df[\"1\"] = df[\"1\"].str.replace(\",\", \".\")\n",
    "df[\"2\"] = df[\"2\"].str.replace(\",\", \".\")\n",
    "df[\"1\"] = df[\"1\"].astype(float)\n",
    "df[\"2\"] = df[\"2\"].astype(float)"
   ]
  },
  {
   "cell_type": "code",
   "execution_count": 17,
   "metadata": {},
   "outputs": [],
   "source": [
    "datum = df.Date.unique()"
   ]
  },
  {
   "cell_type": "code",
   "execution_count": 32,
   "metadata": {},
   "outputs": [
    {
     "name": "stdout",
     "output_type": "stream",
     "text": [
      "0.837789661319073\n",
      "2023-09-08T00:00:00.000000000 02:20 Kansas City Chiefs\n",
      "0.837789661319073\n",
      "2023-09-08T00:00:00.000000000 02:20 Detroit Lions\n",
      "0.7786617973131602\n",
      "2023-09-10T00:00:00.000000000 19:00 Baltimore Ravens\n",
      "0.9429824561403508\n",
      "2023-09-10T00:00:00.000000000 19:00 Indianapolis Colts\n",
      "0.8293460925039873\n",
      "2023-09-10T00:00:00.000000000 19:00 Minnesota Vikings\n",
      "0.9263157894736842\n",
      "2023-09-10T00:00:00.000000000 19:00 New Orleans Saints\n",
      "0.7786617973131602\n",
      "2023-09-10T00:00:00.000000000 19:00 Houston Texans\n",
      "0.9429824561403508\n",
      "2023-09-10T00:00:00.000000000 19:00 Jacksonville Jaguars\n",
      "0.9263157894736842\n",
      "2023-09-10T00:00:00.000000000 19:00 Tennessee Titans\n"
     ]
    }
   ],
   "source": [
    "for i in datum:\n",
    "    df1 = df[df['Date']==i]\n",
    "    zeit = df1.Time.unique()\n",
    "    for j in zeit:\n",
    "        team1 = df1[df1['Time']==j].Team1.unique()\n",
    "        for k in team1:\n",
    "            df1.loc[(df1['Time']==j)&((df1['Team1']==k)|(df1['Team2']==k))]\n",
    "            a = df1.loc[(df1['Time']==j)&((df1['Team1']==k)|(df1['Team2']==k))][\"1\"].max()\n",
    "            b = df1.loc[(df1['Time']==j)&((df1['Team1']==k)|(df1['Team2']==k))][\"2\"].max()\n",
    "            if 1/a+1/b < 1:\n",
    "                print(f\"{1/a+1/b}\")\n",
    "                print(f\"{i} {j} {k}\")\n"
   ]
  },
  {
   "cell_type": "code",
   "execution_count": 34,
   "metadata": {},
   "outputs": [
    {
     "data": {
      "text/plain": [
       "1.0451612903225806"
      ]
     },
     "execution_count": 34,
     "metadata": {},
     "output_type": "execute_result"
    }
   ],
   "source": [
    "1/1.55+1/2.5"
   ]
  },
  {
   "cell_type": "code",
   "execution_count": 23,
   "metadata": {},
   "outputs": [
    {
     "data": {
      "text/html": [
       "<div>\n",
       "<style scoped>\n",
       "    .dataframe tbody tr th:only-of-type {\n",
       "        vertical-align: middle;\n",
       "    }\n",
       "\n",
       "    .dataframe tbody tr th {\n",
       "        vertical-align: top;\n",
       "    }\n",
       "\n",
       "    .dataframe thead th {\n",
       "        text-align: right;\n",
       "    }\n",
       "</style>\n",
       "<table border=\"1\" class=\"dataframe\">\n",
       "  <thead>\n",
       "    <tr style=\"text-align: right;\">\n",
       "      <th></th>\n",
       "      <th>Time</th>\n",
       "      <th>Team1</th>\n",
       "      <th>Team2</th>\n",
       "      <th>1</th>\n",
       "      <th>2</th>\n",
       "      <th>Date</th>\n",
       "      <th>market</th>\n",
       "    </tr>\n",
       "  </thead>\n",
       "  <tbody>\n",
       "    <tr>\n",
       "      <th>1</th>\n",
       "      <td>19:00</td>\n",
       "      <td>Atlanta Falcons</td>\n",
       "      <td>Carolina Panthers</td>\n",
       "      <td>1,65</td>\n",
       "      <td>2,20</td>\n",
       "      <td>2023-09-10</td>\n",
       "      <td>tipico</td>\n",
       "    </tr>\n",
       "    <tr>\n",
       "      <th>9</th>\n",
       "      <td>19:00</td>\n",
       "      <td>Carolina Panthers</td>\n",
       "      <td>Atlanta Falcons</td>\n",
       "      <td>2,05</td>\n",
       "      <td>1,80</td>\n",
       "      <td>2023-09-10</td>\n",
       "      <td>betway</td>\n",
       "    </tr>\n",
       "  </tbody>\n",
       "</table>\n",
       "</div>"
      ],
      "text/plain": [
       "    Time              Team1              Team2     1     2       Date  market\n",
       "1  19:00    Atlanta Falcons  Carolina Panthers  1,65  2,20 2023-09-10  tipico\n",
       "9  19:00  Carolina Panthers    Atlanta Falcons  2,05  1,80 2023-09-10  betway"
      ]
     },
     "execution_count": 23,
     "metadata": {},
     "output_type": "execute_result"
    }
   ],
   "source": [
    "zeit = df.loc[df['Date'] == datum[1]].Time.unique()\n",
    "team1 = df.loc[(df['Date'] == datum[1]) & (df['Time'] == zeit[0])].Team1.unique()\n",
    "df.loc[(df['Date'] == datum[1]) & (df['Time'] == zeit[0]) & ((df['Team1'] == team1[0]) | (df['Team2'] == team1[0]))]"
   ]
  },
  {
   "cell_type": "code",
   "execution_count": 87,
   "metadata": {},
   "outputs": [
    {
     "name": "stderr",
     "output_type": "stream",
     "text": [
      "C:\\Users\\paulh\\AppData\\Local\\Temp\\ipykernel_15548\\1896455981.py:1: SettingWithCopyWarning: \n",
      "A value is trying to be set on a copy of a slice from a DataFrame.\n",
      "Try using .loc[row_indexer,col_indexer] = value instead\n",
      "\n",
      "See the caveats in the documentation: https://pandas.pydata.org/pandas-docs/stable/user_guide/indexing.html#returning-a-view-versus-a-copy\n",
      "  df.loc[df.market == \"betway\"][\"1\"], df.loc[df.market == \"betway\"][\"2\"] = df.loc[df.market == \"betway\"][\"2\"], df.loc[df.market == \"betway\"][\"1\"]\n"
     ]
    }
   ],
   "source": [
    "df.loc[df.market == \"betway\"][\"1\"], df.loc[df.market == \"betway\"][\"2\"] = df.loc[df.market == \"betway\"][\"2\"], df.loc[df.market == \"betway\"][\"1\"]"
   ]
  },
  {
   "cell_type": "code",
   "execution_count": 94,
   "metadata": {},
   "outputs": [],
   "source": [
    "temp = df.loc[df.market == \"betway\", \"1\"].copy()\n",
    "df.loc[df.market == \"betway\", \"1\"] = df.loc[df.market == \"betway\", \"2\"]\n",
    "df.loc[df.market == \"betway\", \"2\"] = temp"
   ]
  },
  {
   "cell_type": "code",
   "execution_count": 42,
   "metadata": {},
   "outputs": [],
   "source": [
    "datum = df.Date.unique()"
   ]
  },
  {
   "cell_type": "code",
   "execution_count": 53,
   "metadata": {},
   "outputs": [],
   "source": [
    "zeit = df.loc[df['Date'] == datum[1]].Time.unique()"
   ]
  },
  {
   "cell_type": "code",
   "execution_count": 120,
   "metadata": {},
   "outputs": [],
   "source": [
    "zeit = df.loc[df['Date'] == datum[1]].Time.unique()"
   ]
  },
  {
   "cell_type": "code",
   "execution_count": 122,
   "metadata": {},
   "outputs": [],
   "source": [
    "teams = set(map(tuple,df.loc[(df['Date'] == datum[1]) & (df['Time'] == zeit[0])][[\"Team1\", \"Team2\"]].drop_duplicates().loc[:, ['Team1', 'Team2']].values))"
   ]
  },
  {
   "cell_type": "code",
   "execution_count": 124,
   "metadata": {},
   "outputs": [
    {
     "data": {
      "text/html": [
       "<div>\n",
       "<style scoped>\n",
       "    .dataframe tbody tr th:only-of-type {\n",
       "        vertical-align: middle;\n",
       "    }\n",
       "\n",
       "    .dataframe tbody tr th {\n",
       "        vertical-align: top;\n",
       "    }\n",
       "\n",
       "    .dataframe thead th {\n",
       "        text-align: right;\n",
       "    }\n",
       "</style>\n",
       "<table border=\"1\" class=\"dataframe\">\n",
       "  <thead>\n",
       "    <tr style=\"text-align: right;\">\n",
       "      <th></th>\n",
       "      <th>Time</th>\n",
       "      <th>Team1</th>\n",
       "      <th>Team2</th>\n",
       "      <th>1</th>\n",
       "      <th>2</th>\n",
       "      <th>Date</th>\n",
       "      <th>market</th>\n",
       "    </tr>\n",
       "  </thead>\n",
       "  <tbody>\n",
       "  </tbody>\n",
       "</table>\n",
       "</div>"
      ],
      "text/plain": [
       "Empty DataFrame\n",
       "Columns: [Time, Team1, Team2, 1, 2, Date, market]\n",
       "Index: []"
      ]
     },
     "execution_count": 124,
     "metadata": {},
     "output_type": "execute_result"
    }
   ],
   "source": [
    "df.loc[(df['Date'] == datum[1]) & (df['Time'] == zeit[0]) & (df['Team1'].isin(teams))]"
   ]
  },
  {
   "cell_type": "code",
   "execution_count": 125,
   "metadata": {},
   "outputs": [
    {
     "data": {
      "text/plain": [
       "{('Arizona Cardinals', 'Washington Commanders'),\n",
       " ('Atlanta Falcons', 'Carolina Panthers'),\n",
       " ('Baltimore Ravens', 'Houston Texans'),\n",
       " ('Carolina Panthers', 'Atlanta Falcons'),\n",
       " ('Cincinnati Bengals', 'Cleveland Browns'),\n",
       " ('Cleveland Browns', 'Cincinnati Bengals'),\n",
       " ('Houston Texans', 'Baltimore Ravens'),\n",
       " ('Indianapolis Colts', 'Jacksonville Jaguars'),\n",
       " ('Jacksonville Jaguars', 'Indianapolis Colts'),\n",
       " ('Minnesota Vikings', 'Tampa Bay Buccan.'),\n",
       " ('New Orleans Saints', 'Tennessee Titans'),\n",
       " ('Pittsburgh Steelers', 'San Francisco 49ers'),\n",
       " ('San Francisco 49ers', 'Pittsburgh Steelers'),\n",
       " ('Tampa Bay Buccaneers', 'Minnesota Vikings'),\n",
       " ('Tennessee Titans', 'New Orleans Saints')}"
      ]
     },
     "execution_count": 125,
     "metadata": {},
     "output_type": "execute_result"
    }
   ],
   "source": [
    "teams"
   ]
  },
  {
   "cell_type": "code",
   "execution_count": 117,
   "metadata": {},
   "outputs": [
    {
     "data": {
      "text/html": [
       "<div>\n",
       "<style scoped>\n",
       "    .dataframe tbody tr th:only-of-type {\n",
       "        vertical-align: middle;\n",
       "    }\n",
       "\n",
       "    .dataframe tbody tr th {\n",
       "        vertical-align: top;\n",
       "    }\n",
       "\n",
       "    .dataframe thead th {\n",
       "        text-align: right;\n",
       "    }\n",
       "</style>\n",
       "<table border=\"1\" class=\"dataframe\">\n",
       "  <thead>\n",
       "    <tr style=\"text-align: right;\">\n",
       "      <th></th>\n",
       "      <th>Team1</th>\n",
       "      <th>Team2</th>\n",
       "    </tr>\n",
       "  </thead>\n",
       "  <tbody>\n",
       "  </tbody>\n",
       "</table>\n",
       "</div>"
      ],
      "text/plain": [
       "Empty DataFrame\n",
       "Columns: [Team1, Team2]\n",
       "Index: []"
      ]
     },
     "execution_count": 117,
     "metadata": {},
     "output_type": "execute_result"
    }
   ],
   "source": [
    "df.loc[(df['Date'] == datum[1]) & (df['Time'] == zeit[0])][[\"Team1\", \"Team2\"]]"
   ]
  },
  {
   "cell_type": "code",
   "execution_count": 119,
   "metadata": {},
   "outputs": [
    {
     "data": {
      "text/html": [
       "<div>\n",
       "<style scoped>\n",
       "    .dataframe tbody tr th:only-of-type {\n",
       "        vertical-align: middle;\n",
       "    }\n",
       "\n",
       "    .dataframe tbody tr th {\n",
       "        vertical-align: top;\n",
       "    }\n",
       "\n",
       "    .dataframe thead th {\n",
       "        text-align: right;\n",
       "    }\n",
       "</style>\n",
       "<table border=\"1\" class=\"dataframe\">\n",
       "  <thead>\n",
       "    <tr style=\"text-align: right;\">\n",
       "      <th></th>\n",
       "      <th>Time</th>\n",
       "      <th>Team1</th>\n",
       "      <th>Team2</th>\n",
       "      <th>1</th>\n",
       "      <th>2</th>\n",
       "      <th>Date</th>\n",
       "      <th>market</th>\n",
       "    </tr>\n",
       "  </thead>\n",
       "  <tbody>\n",
       "  </tbody>\n",
       "</table>\n",
       "</div>"
      ],
      "text/plain": [
       "Empty DataFrame\n",
       "Columns: [Time, Team1, Team2, 1, 2, Date, market]\n",
       "Index: []"
      ]
     },
     "execution_count": 119,
     "metadata": {},
     "output_type": "execute_result"
    }
   ],
   "source": [
    "df.loc[(df['Date'] == datum[1]) & (df['Time'] == zeit[0])]"
   ]
  },
  {
   "cell_type": "code",
   "execution_count": 108,
   "metadata": {},
   "outputs": [
    {
     "data": {
      "text/plain": [
       "<zip at 0x14bad725d00>"
      ]
     },
     "execution_count": 108,
     "metadata": {},
     "output_type": "execute_result"
    }
   ],
   "source": [
    "idk"
   ]
  },
  {
   "cell_type": "code",
   "execution_count": 104,
   "metadata": {},
   "outputs": [
    {
     "name": "stdout",
     "output_type": "stream",
     "text": [
      "('Atlanta Falcons', 'Carolina Panthers')\n",
      "('Baltimore Ravens', 'Houston Texans')\n",
      "('Cleveland Browns', 'Cincinnati Bengals')\n",
      "('Indianapolis Colts', 'Jacksonville Jaguars')\n",
      "('Minnesota Vikings', 'Tampa Bay Buccan.')\n",
      "('New Orleans Saints', 'Tennessee Titans')\n",
      "('Pittsburgh Steelers', 'San Francisco 49ers')\n",
      "('Carolina Panthers', 'Atlanta Falcons')\n",
      "('Houston Texans', 'Baltimore Ravens')\n",
      "('Cincinnati Bengals', 'Cleveland Browns')\n",
      "('Jacksonville Jaguars', 'Indianapolis Colts')\n",
      "('Tampa Bay Buccaneers', 'Minnesota Vikings')\n",
      "('Tennessee Titans', 'New Orleans Saints')\n",
      "('San Francisco 49ers', 'Pittsburgh Steelers')\n",
      "('Arizona Cardinals', 'Washington Commanders')\n"
     ]
    }
   ],
   "source": [
    "for i in idk:\n",
    "    print(i)"
   ]
  },
  {
   "cell_type": "code",
   "execution_count": 96,
   "metadata": {},
   "outputs": [
    {
     "data": {
      "text/plain": [
       "0.837789661319073"
      ]
     },
     "execution_count": 96,
     "metadata": {},
     "output_type": "execute_result"
    }
   ],
   "source": [
    "uno = df.loc[df['Date'] == datum[0]][\"1\"].max()\n",
    "dos = df.loc[df['Date'] == datum[0]][\"2\"].max()\n",
    "uno = float(uno.replace(',','.'))\n",
    "dos = float(dos.replace(',','.'))\n",
    "1/uno + 1/dos"
   ]
  },
  {
   "cell_type": "code",
   "execution_count": 95,
   "metadata": {},
   "outputs": [
    {
     "data": {
      "text/html": [
       "<div>\n",
       "<style scoped>\n",
       "    .dataframe tbody tr th:only-of-type {\n",
       "        vertical-align: middle;\n",
       "    }\n",
       "\n",
       "    .dataframe tbody tr th {\n",
       "        vertical-align: top;\n",
       "    }\n",
       "\n",
       "    .dataframe thead th {\n",
       "        text-align: right;\n",
       "    }\n",
       "</style>\n",
       "<table border=\"1\" class=\"dataframe\">\n",
       "  <thead>\n",
       "    <tr style=\"text-align: right;\">\n",
       "      <th></th>\n",
       "      <th>Time</th>\n",
       "      <th>Team1</th>\n",
       "      <th>Team2</th>\n",
       "      <th>1</th>\n",
       "      <th>2</th>\n",
       "      <th>Date</th>\n",
       "      <th>market</th>\n",
       "    </tr>\n",
       "  </thead>\n",
       "  <tbody>\n",
       "    <tr>\n",
       "      <th>0</th>\n",
       "      <td>02:20</td>\n",
       "      <td>Kansas City Chiefs</td>\n",
       "      <td>Detroit Lions</td>\n",
       "      <td>1,32</td>\n",
       "      <td>3,30</td>\n",
       "      <td>2023-09-08</td>\n",
       "      <td>tipico</td>\n",
       "    </tr>\n",
       "    <tr>\n",
       "      <th>8</th>\n",
       "      <td>02:20</td>\n",
       "      <td>Detroit Lions</td>\n",
       "      <td>Kansas City Chiefs</td>\n",
       "      <td>1,87</td>\n",
       "      <td>1,95</td>\n",
       "      <td>2023-09-08</td>\n",
       "      <td>betway</td>\n",
       "    </tr>\n",
       "  </tbody>\n",
       "</table>\n",
       "</div>"
      ],
      "text/plain": [
       "    Time               Team1               Team2     1     2       Date  \\\n",
       "0  02:20  Kansas City Chiefs       Detroit Lions  1,32  3,30 2023-09-08   \n",
       "8  02:20       Detroit Lions  Kansas City Chiefs  1,87  1,95 2023-09-08   \n",
       "\n",
       "   market  \n",
       "0  tipico  \n",
       "8  betway  "
      ]
     },
     "execution_count": 95,
     "metadata": {},
     "output_type": "execute_result"
    }
   ],
   "source": [
    "df.loc[df['Date'] == datum[0]]"
   ]
  },
  {
   "cell_type": "code",
   "execution_count": 49,
   "metadata": {},
   "outputs": [
    {
     "data": {
      "text/plain": [
       "1.95"
      ]
     },
     "execution_count": 49,
     "metadata": {},
     "output_type": "execute_result"
    }
   ],
   "source": [
    "uno"
   ]
  }
 ],
 "metadata": {
  "kernelspec": {
   "display_name": "Python 3",
   "language": "python",
   "name": "python3"
  },
  "language_info": {
   "codemirror_mode": {
    "name": "ipython",
    "version": 3
   },
   "file_extension": ".py",
   "mimetype": "text/x-python",
   "name": "python",
   "nbconvert_exporter": "python",
   "pygments_lexer": "ipython3",
   "version": "3.10.11"
  },
  "orig_nbformat": 4
 },
 "nbformat": 4,
 "nbformat_minor": 2
}
