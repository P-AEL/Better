{
 "cells": [
  {
   "cell_type": "code",
   "execution_count": null,
   "metadata": {},
   "outputs": [],
   "source": [
    "<div class=\"EventDateHeader-styles-event-date-header\" data-testid=\"event-date-header\">Freitag, 08.09</div>"
   ]
  },
  {
   "cell_type": "code",
   "execution_count": 45,
   "metadata": {},
   "outputs": [],
   "source": [
    "# from selenium import webdriver\n",
    "# import time\n",
    "\n",
    "# # Starte den Chrome Webdriver (du musst den Webdriver installieren und den Pfad entsprechend anpassen)\n",
    "# driver = webdriver.Chrome('/path/to/chromedriver')\n",
    "\n",
    "# # Lade die Webseite\n",
    "# driver.get('https://sports.tipico.de/de/alle/american-football/usa/nfl')\n",
    "\n",
    "# # Finde das <div> Element mit der angegebenen Klasse\n",
    "# div_element = driver.find_element_by_class_name('EventDateHeader-styles-event-date-header')\n",
    "\n",
    "# # Zugriff auf den Textinhalt des <div> Elements\n",
    "# div_text = div_element.text\n",
    "# print(div_text)\n",
    "\n",
    "# # Schließe den Webdriver\n",
    "# driver.quit()"
   ]
  },
  {
   "cell_type": "code",
   "execution_count": 48,
   "metadata": {},
   "outputs": [],
   "source": [
    "from selenium import webdriver\n",
    "import time\n",
    "from selenium.webdriver.chrome.service import Service\n",
    "import pandas as pd\n",
    "\n",
    "web = 'https://sports.tipico.de/de/alle/american-football/usa/nfl' #you can choose any other league\n",
    "path = 'D:\\\\Users\\\\paulh\\\\Downloads\\\\chromedriver_win32\\\\chromedriver.exe'\n",
    "service = Service(path)"
   ]
  },
  {
   "cell_type": "code",
   "execution_count": 49,
   "metadata": {},
   "outputs": [],
   "source": [
    "driver = webdriver.Chrome(service=service)\n",
    "driver.get(web)\n",
    "time.sleep(5) #add implicit wait, if necessary\n",
    "accept = driver.find_element(by='xpath', value='//*[@id=\"_evidon-accept-button\"]')\n",
    "accept.click()\n",
    "time.sleep(3) #add implicit wait, if necessary\n",
    "# accept1 = driver.find_element(by='xpath', value='//*[@id=\"app\"]/main/main/section/div/div[1]/div/div/div/div[5]/div[2]/div')\n",
    "# accept1.click()\n",
    "div_element = driver.find_element(by=\"xpath\",value='//*[@id=\"app\"]/main/main/section/div/div[1]/div/div/div')\n",
    "elements = div_element.find_elements(by=\"css selector\",value='*')"
   ]
  },
  {
   "cell_type": "code",
   "execution_count": 51,
   "metadata": {},
   "outputs": [
    {
     "data": {
      "text/plain": [
       "<selenium.webdriver.remote.webelement.WebElement (session=\"0219238ffaa6d57ed75042e0e7a68749\", element=\"5BF65CF71DDD0C63224136E969D31274_element_45\")>"
      ]
     },
     "execution_count": 51,
     "metadata": {},
     "output_type": "execute_result"
    }
   ],
   "source": [
    "div_element"
   ]
  },
  {
   "cell_type": "code",
   "execution_count": 61,
   "metadata": {},
   "outputs": [
    {
     "data": {
      "text/plain": [
       "235"
      ]
     },
     "execution_count": 61,
     "metadata": {},
     "output_type": "execute_result"
    }
   ],
   "source": [
    "elements.__len__()"
   ]
  },
  {
   "cell_type": "code",
   "execution_count": 63,
   "metadata": {},
   "outputs": [],
   "source": [
    "liste = []\n",
    "for element in elements:\n",
    "    liste.append(element.find_elements(by=\"css selector\",value='*'))"
   ]
  },
  {
   "cell_type": "code",
   "execution_count": 99,
   "metadata": {},
   "outputs": [
    {
     "data": {
      "text/plain": [
       "'San Francisco 49ers'"
      ]
     },
     "execution_count": 99,
     "metadata": {},
     "output_type": "execute_result"
    }
   ],
   "source": [
    "elements[12].find_elements(by=\"css selector\",value='*')[276].text"
   ]
  },
  {
   "cell_type": "code",
   "execution_count": 108,
   "metadata": {},
   "outputs": [
    {
     "data": {
      "text/plain": [
       "'1,32\\n3,30'"
      ]
     },
     "execution_count": 108,
     "metadata": {},
     "output_type": "execute_result"
    }
   ],
   "source": [
    "elements[14].find_elements(by=\"css selector\",value='*')[8].text"
   ]
  },
  {
   "cell_type": "code",
   "execution_count": 113,
   "metadata": {},
   "outputs": [
    {
     "data": {
      "text/plain": [
       "'EventDateHeader-styles-event-date-header'"
      ]
     },
     "execution_count": 113,
     "metadata": {},
     "output_type": "execute_result"
    }
   ],
   "source": [
    "elements[13].get_attribute('class')  "
   ]
  },
  {
   "cell_type": "code",
   "execution_count": 144,
   "metadata": {},
   "outputs": [
    {
     "data": {
      "text/plain": [
       "'EventRow-styles-event-row'"
      ]
     },
     "execution_count": 144,
     "metadata": {},
     "output_type": "execute_result"
    }
   ],
   "source": [
    "elements[35].get_attribute('class')  "
   ]
  },
  {
   "cell_type": "code",
   "execution_count": 143,
   "metadata": {},
   "outputs": [
    {
     "data": {
      "text/plain": [
       "'19:00\\nAtlanta Falcons\\nCarolina Panthers\\n1,65\\n2,20\\n0:2,5\\n1,80\\n2,00\\n43,5\\n1,95\\n1,85\\n3'"
      ]
     },
     "execution_count": 143,
     "metadata": {},
     "output_type": "execute_result"
    }
   ],
   "source": [
    "elements[35].text"
   ]
  },
  {
   "cell_type": "code",
   "execution_count": 147,
   "metadata": {},
   "outputs": [],
   "source": [
    "important_elements = {}\n",
    "for element in elements:\n",
    "    class_name = element.get_attribute('class')\n",
    "    if class_name == 'EventDateHeader-styles-event-date-header':\n",
    "        abbreviation = element.text\n",
    "        important_elements[abbreviation] = []\n",
    "    elif class_name == 'EventRow-styles-event-row':\n",
    "        important_elements[abbreviation].append(element.text)\n"
   ]
  },
  {
   "cell_type": "code",
   "execution_count": 148,
   "metadata": {},
   "outputs": [
    {
     "data": {
      "text/plain": [
       "{'Freitag, 08.09': ['02:20\\nKansas City Chiefs\\nDetroit Lions\\n1,32\\n3,30\\n0:6,5\\n1,80\\n2,00\\n53,5\\n1,85\\n1,90\\n3'],\n",
       " 'Sonntag, 10.09': ['19:00\\nAtlanta Falcons\\nCarolina Panthers\\n1,65\\n2,20\\n0:2,5\\n1,80\\n2,00\\n43,5\\n1,95\\n1,85\\n3',\n",
       "  '19:00\\nBaltimore Ravens\\nHouston Texans\\n1,22\\n4,10\\n0:8,5\\n1,90\\n1,85\\n44,5\\n1,85\\n1,90\\n3',\n",
       "  '19:00\\nCleveland Browns\\nCincinnati Bengals\\n2,05\\n1,75\\n2,5:0\\n1,90\\n1,85\\n46,5\\n1,85\\n1,95\\n3',\n",
       "  '19:00\\nIndianapolis Colts\\nJacksonville Jaguars\\n2,40\\n1,55\\n3,5:0\\n1,85\\n1,95\\n43,5\\n1,85\\n1,90\\n3',\n",
       "  '19:00\\nMinnesota Vikings\\nTampa Bay Buccan.\\n1,32\\n3,30\\n0:6,5\\n1,85\\n1,95\\n45,5\\n1,85\\n1,90\\n3',\n",
       "  '19:00\\nNew Orleans Saints\\nTennessee Titans\\n1,52\\n2,50\\n0:3,5\\n1,95\\n1,85\\n42,5\\n1,95\\n1,85\\n3',\n",
       "  '19:00\\nPittsburgh Steelers\\nSan Francisco 49ers\\n2,20\\n1,65\\n2,5:0\\n2,00\\n1,80\\n41,5\\n1,85\\n1,95\\n3']}"
      ]
     },
     "execution_count": 148,
     "metadata": {},
     "output_type": "execute_result"
    }
   ],
   "source": [
    "important_elements"
   ]
  },
  {
   "cell_type": "code",
   "execution_count": 206,
   "metadata": {},
   "outputs": [],
   "source": [
    "columns = ['Time', 'Team1', 'Team2', '1', '2','Date']"
   ]
  },
  {
   "cell_type": "code",
   "execution_count": 207,
   "metadata": {},
   "outputs": [],
   "source": [
    "df = pd.DataFrame(columns=columns)"
   ]
  },
  {
   "cell_type": "code",
   "execution_count": 208,
   "metadata": {},
   "outputs": [
    {
     "data": {
      "text/html": [
       "<div>\n",
       "<style scoped>\n",
       "    .dataframe tbody tr th:only-of-type {\n",
       "        vertical-align: middle;\n",
       "    }\n",
       "\n",
       "    .dataframe tbody tr th {\n",
       "        vertical-align: top;\n",
       "    }\n",
       "\n",
       "    .dataframe thead th {\n",
       "        text-align: right;\n",
       "    }\n",
       "</style>\n",
       "<table border=\"1\" class=\"dataframe\">\n",
       "  <thead>\n",
       "    <tr style=\"text-align: right;\">\n",
       "      <th></th>\n",
       "      <th>Time</th>\n",
       "      <th>Team1</th>\n",
       "      <th>Team2</th>\n",
       "      <th>1</th>\n",
       "      <th>2</th>\n",
       "      <th>Date</th>\n",
       "    </tr>\n",
       "  </thead>\n",
       "  <tbody>\n",
       "  </tbody>\n",
       "</table>\n",
       "</div>"
      ],
      "text/plain": [
       "Empty DataFrame\n",
       "Columns: [Time, Team1, Team2, 1, 2, Date]\n",
       "Index: []"
      ]
     },
     "execution_count": 208,
     "metadata": {},
     "output_type": "execute_result"
    }
   ],
   "source": [
    "df"
   ]
  },
  {
   "cell_type": "code",
   "execution_count": 223,
   "metadata": {},
   "outputs": [],
   "source": [
    "# enumarate\n",
    "for i,j in enumerate(important_elements):\n",
    "    for k in important_elements[j]:\n",
    "        data = k.strip().split('\\n')[0:5]\n",
    "        data.append(j)\n",
    "        df1 = pd.DataFrame([data], columns=columns)\n",
    "        df = pd.concat([df, df1], ignore_index=True)"
   ]
  },
  {
   "cell_type": "code",
   "execution_count": 224,
   "metadata": {},
   "outputs": [
    {
     "data": {
      "text/html": [
       "<div>\n",
       "<style scoped>\n",
       "    .dataframe tbody tr th:only-of-type {\n",
       "        vertical-align: middle;\n",
       "    }\n",
       "\n",
       "    .dataframe tbody tr th {\n",
       "        vertical-align: top;\n",
       "    }\n",
       "\n",
       "    .dataframe thead th {\n",
       "        text-align: right;\n",
       "    }\n",
       "</style>\n",
       "<table border=\"1\" class=\"dataframe\">\n",
       "  <thead>\n",
       "    <tr style=\"text-align: right;\">\n",
       "      <th></th>\n",
       "      <th>Time</th>\n",
       "      <th>Team1</th>\n",
       "      <th>Team2</th>\n",
       "      <th>1</th>\n",
       "      <th>2</th>\n",
       "      <th>Date</th>\n",
       "    </tr>\n",
       "  </thead>\n",
       "  <tbody>\n",
       "    <tr>\n",
       "      <th>0</th>\n",
       "      <td>02:20</td>\n",
       "      <td>Kansas City Chiefs</td>\n",
       "      <td>1,32</td>\n",
       "      <td>3,30</td>\n",
       "      <td>0:6,5</td>\n",
       "      <td>Freitag, 08.09</td>\n",
       "    </tr>\n",
       "    <tr>\n",
       "      <th>1</th>\n",
       "      <td>19:00</td>\n",
       "      <td>Atlanta Falcons</td>\n",
       "      <td>1,65</td>\n",
       "      <td>2,20</td>\n",
       "      <td>0:2,5</td>\n",
       "      <td>Sonntag, 10.09</td>\n",
       "    </tr>\n",
       "    <tr>\n",
       "      <th>2</th>\n",
       "      <td>19:00</td>\n",
       "      <td>Baltimore Ravens</td>\n",
       "      <td>1,22</td>\n",
       "      <td>4,10</td>\n",
       "      <td>0:8,5</td>\n",
       "      <td>Sonntag, 10.09</td>\n",
       "    </tr>\n",
       "    <tr>\n",
       "      <th>3</th>\n",
       "      <td>19:00</td>\n",
       "      <td>Cleveland Browns</td>\n",
       "      <td>2,05</td>\n",
       "      <td>1,75</td>\n",
       "      <td>2,5:0</td>\n",
       "      <td>Sonntag, 10.09</td>\n",
       "    </tr>\n",
       "    <tr>\n",
       "      <th>4</th>\n",
       "      <td>19:00</td>\n",
       "      <td>Indianapolis Colts</td>\n",
       "      <td>2,40</td>\n",
       "      <td>1,55</td>\n",
       "      <td>3,5:0</td>\n",
       "      <td>Sonntag, 10.09</td>\n",
       "    </tr>\n",
       "    <tr>\n",
       "      <th>5</th>\n",
       "      <td>19:00</td>\n",
       "      <td>Minnesota Vikings</td>\n",
       "      <td>1,32</td>\n",
       "      <td>3,30</td>\n",
       "      <td>0:6,5</td>\n",
       "      <td>Sonntag, 10.09</td>\n",
       "    </tr>\n",
       "    <tr>\n",
       "      <th>6</th>\n",
       "      <td>19:00</td>\n",
       "      <td>New Orleans Saints</td>\n",
       "      <td>1,52</td>\n",
       "      <td>2,50</td>\n",
       "      <td>0:3,5</td>\n",
       "      <td>Sonntag, 10.09</td>\n",
       "    </tr>\n",
       "    <tr>\n",
       "      <th>7</th>\n",
       "      <td>19:00</td>\n",
       "      <td>Pittsburgh Steelers</td>\n",
       "      <td>2,20</td>\n",
       "      <td>1,65</td>\n",
       "      <td>2,5:0</td>\n",
       "      <td>Sonntag, 10.09</td>\n",
       "    </tr>\n",
       "    <tr>\n",
       "      <th>8</th>\n",
       "      <td>02:20</td>\n",
       "      <td>Kansas City Chiefs</td>\n",
       "      <td>Detroit Lions</td>\n",
       "      <td>1,32</td>\n",
       "      <td>3,30</td>\n",
       "      <td>Freitag, 08.09</td>\n",
       "    </tr>\n",
       "    <tr>\n",
       "      <th>9</th>\n",
       "      <td>19:00</td>\n",
       "      <td>Atlanta Falcons</td>\n",
       "      <td>Carolina Panthers</td>\n",
       "      <td>1,65</td>\n",
       "      <td>2,20</td>\n",
       "      <td>Sonntag, 10.09</td>\n",
       "    </tr>\n",
       "    <tr>\n",
       "      <th>10</th>\n",
       "      <td>19:00</td>\n",
       "      <td>Baltimore Ravens</td>\n",
       "      <td>Houston Texans</td>\n",
       "      <td>1,22</td>\n",
       "      <td>4,10</td>\n",
       "      <td>Sonntag, 10.09</td>\n",
       "    </tr>\n",
       "    <tr>\n",
       "      <th>11</th>\n",
       "      <td>19:00</td>\n",
       "      <td>Cleveland Browns</td>\n",
       "      <td>Cincinnati Bengals</td>\n",
       "      <td>2,05</td>\n",
       "      <td>1,75</td>\n",
       "      <td>Sonntag, 10.09</td>\n",
       "    </tr>\n",
       "    <tr>\n",
       "      <th>12</th>\n",
       "      <td>19:00</td>\n",
       "      <td>Indianapolis Colts</td>\n",
       "      <td>Jacksonville Jaguars</td>\n",
       "      <td>2,40</td>\n",
       "      <td>1,55</td>\n",
       "      <td>Sonntag, 10.09</td>\n",
       "    </tr>\n",
       "    <tr>\n",
       "      <th>13</th>\n",
       "      <td>19:00</td>\n",
       "      <td>Minnesota Vikings</td>\n",
       "      <td>Tampa Bay Buccan.</td>\n",
       "      <td>1,32</td>\n",
       "      <td>3,30</td>\n",
       "      <td>Sonntag, 10.09</td>\n",
       "    </tr>\n",
       "    <tr>\n",
       "      <th>14</th>\n",
       "      <td>19:00</td>\n",
       "      <td>New Orleans Saints</td>\n",
       "      <td>Tennessee Titans</td>\n",
       "      <td>1,52</td>\n",
       "      <td>2,50</td>\n",
       "      <td>Sonntag, 10.09</td>\n",
       "    </tr>\n",
       "    <tr>\n",
       "      <th>15</th>\n",
       "      <td>19:00</td>\n",
       "      <td>Pittsburgh Steelers</td>\n",
       "      <td>San Francisco 49ers</td>\n",
       "      <td>2,20</td>\n",
       "      <td>1,65</td>\n",
       "      <td>Sonntag, 10.09</td>\n",
       "    </tr>\n",
       "  </tbody>\n",
       "</table>\n",
       "</div>"
      ],
      "text/plain": [
       "     Time                Team1                 Team2     1      2  \\\n",
       "0   02:20   Kansas City Chiefs                  1,32  3,30  0:6,5   \n",
       "1   19:00      Atlanta Falcons                  1,65  2,20  0:2,5   \n",
       "2   19:00     Baltimore Ravens                  1,22  4,10  0:8,5   \n",
       "3   19:00     Cleveland Browns                  2,05  1,75  2,5:0   \n",
       "4   19:00   Indianapolis Colts                  2,40  1,55  3,5:0   \n",
       "5   19:00    Minnesota Vikings                  1,32  3,30  0:6,5   \n",
       "6   19:00   New Orleans Saints                  1,52  2,50  0:3,5   \n",
       "7   19:00  Pittsburgh Steelers                  2,20  1,65  2,5:0   \n",
       "8   02:20   Kansas City Chiefs         Detroit Lions  1,32   3,30   \n",
       "9   19:00      Atlanta Falcons     Carolina Panthers  1,65   2,20   \n",
       "10  19:00     Baltimore Ravens        Houston Texans  1,22   4,10   \n",
       "11  19:00     Cleveland Browns    Cincinnati Bengals  2,05   1,75   \n",
       "12  19:00   Indianapolis Colts  Jacksonville Jaguars  2,40   1,55   \n",
       "13  19:00    Minnesota Vikings     Tampa Bay Buccan.  1,32   3,30   \n",
       "14  19:00   New Orleans Saints      Tennessee Titans  1,52   2,50   \n",
       "15  19:00  Pittsburgh Steelers   San Francisco 49ers  2,20   1,65   \n",
       "\n",
       "              Date  \n",
       "0   Freitag, 08.09  \n",
       "1   Sonntag, 10.09  \n",
       "2   Sonntag, 10.09  \n",
       "3   Sonntag, 10.09  \n",
       "4   Sonntag, 10.09  \n",
       "5   Sonntag, 10.09  \n",
       "6   Sonntag, 10.09  \n",
       "7   Sonntag, 10.09  \n",
       "8   Freitag, 08.09  \n",
       "9   Sonntag, 10.09  \n",
       "10  Sonntag, 10.09  \n",
       "11  Sonntag, 10.09  \n",
       "12  Sonntag, 10.09  \n",
       "13  Sonntag, 10.09  \n",
       "14  Sonntag, 10.09  \n",
       "15  Sonntag, 10.09  "
      ]
     },
     "execution_count": 224,
     "metadata": {},
     "output_type": "execute_result"
    }
   ],
   "source": [
    "df"
   ]
  },
  {
   "cell_type": "code",
   "execution_count": 210,
   "metadata": {},
   "outputs": [
    {
     "data": {
      "text/html": [
       "<div>\n",
       "<style scoped>\n",
       "    .dataframe tbody tr th:only-of-type {\n",
       "        vertical-align: middle;\n",
       "    }\n",
       "\n",
       "    .dataframe tbody tr th {\n",
       "        vertical-align: top;\n",
       "    }\n",
       "\n",
       "    .dataframe thead th {\n",
       "        text-align: right;\n",
       "    }\n",
       "</style>\n",
       "<table border=\"1\" class=\"dataframe\">\n",
       "  <thead>\n",
       "    <tr style=\"text-align: right;\">\n",
       "      <th></th>\n",
       "      <th>Time</th>\n",
       "      <th>Team1</th>\n",
       "      <th>Team2</th>\n",
       "      <th>1</th>\n",
       "      <th>2</th>\n",
       "      <th>Date</th>\n",
       "    </tr>\n",
       "  </thead>\n",
       "  <tbody>\n",
       "    <tr>\n",
       "      <th>0</th>\n",
       "      <td>02:20</td>\n",
       "      <td>Kansas City Chiefs</td>\n",
       "      <td>1,32</td>\n",
       "      <td>3,30</td>\n",
       "      <td>0:6,5</td>\n",
       "      <td>Freitag, 08.09</td>\n",
       "    </tr>\n",
       "    <tr>\n",
       "      <th>1</th>\n",
       "      <td>19:00</td>\n",
       "      <td>Atlanta Falcons</td>\n",
       "      <td>1,65</td>\n",
       "      <td>2,20</td>\n",
       "      <td>0:2,5</td>\n",
       "      <td>Sonntag, 10.09</td>\n",
       "    </tr>\n",
       "    <tr>\n",
       "      <th>2</th>\n",
       "      <td>19:00</td>\n",
       "      <td>Baltimore Ravens</td>\n",
       "      <td>1,22</td>\n",
       "      <td>4,10</td>\n",
       "      <td>0:8,5</td>\n",
       "      <td>Sonntag, 10.09</td>\n",
       "    </tr>\n",
       "    <tr>\n",
       "      <th>3</th>\n",
       "      <td>19:00</td>\n",
       "      <td>Cleveland Browns</td>\n",
       "      <td>2,05</td>\n",
       "      <td>1,75</td>\n",
       "      <td>2,5:0</td>\n",
       "      <td>Sonntag, 10.09</td>\n",
       "    </tr>\n",
       "    <tr>\n",
       "      <th>4</th>\n",
       "      <td>19:00</td>\n",
       "      <td>Indianapolis Colts</td>\n",
       "      <td>2,40</td>\n",
       "      <td>1,55</td>\n",
       "      <td>3,5:0</td>\n",
       "      <td>Sonntag, 10.09</td>\n",
       "    </tr>\n",
       "    <tr>\n",
       "      <th>5</th>\n",
       "      <td>19:00</td>\n",
       "      <td>Minnesota Vikings</td>\n",
       "      <td>1,32</td>\n",
       "      <td>3,30</td>\n",
       "      <td>0:6,5</td>\n",
       "      <td>Sonntag, 10.09</td>\n",
       "    </tr>\n",
       "    <tr>\n",
       "      <th>6</th>\n",
       "      <td>19:00</td>\n",
       "      <td>New Orleans Saints</td>\n",
       "      <td>1,52</td>\n",
       "      <td>2,50</td>\n",
       "      <td>0:3,5</td>\n",
       "      <td>Sonntag, 10.09</td>\n",
       "    </tr>\n",
       "    <tr>\n",
       "      <th>7</th>\n",
       "      <td>19:00</td>\n",
       "      <td>Pittsburgh Steelers</td>\n",
       "      <td>2,20</td>\n",
       "      <td>1,65</td>\n",
       "      <td>2,5:0</td>\n",
       "      <td>Sonntag, 10.09</td>\n",
       "    </tr>\n",
       "  </tbody>\n",
       "</table>\n",
       "</div>"
      ],
      "text/plain": [
       "    Time                Team1 Team2     1      2            Date\n",
       "0  02:20   Kansas City Chiefs  1,32  3,30  0:6,5  Freitag, 08.09\n",
       "1  19:00      Atlanta Falcons  1,65  2,20  0:2,5  Sonntag, 10.09\n",
       "2  19:00     Baltimore Ravens  1,22  4,10  0:8,5  Sonntag, 10.09\n",
       "3  19:00     Cleveland Browns  2,05  1,75  2,5:0  Sonntag, 10.09\n",
       "4  19:00   Indianapolis Colts  2,40  1,55  3,5:0  Sonntag, 10.09\n",
       "5  19:00    Minnesota Vikings  1,32  3,30  0:6,5  Sonntag, 10.09\n",
       "6  19:00   New Orleans Saints  1,52  2,50  0:3,5  Sonntag, 10.09\n",
       "7  19:00  Pittsburgh Steelers  2,20  1,65  2,5:0  Sonntag, 10.09"
      ]
     },
     "execution_count": 210,
     "metadata": {},
     "output_type": "execute_result"
    }
   ],
   "source": [
    "df"
   ]
  },
  {
   "cell_type": "code",
   "execution_count": 211,
   "metadata": {},
   "outputs": [
    {
     "data": {
      "text/plain": [
       "['02:20',\n",
       " 'Kansas City Chiefs',\n",
       " 'Detroit Lions',\n",
       " '1,32',\n",
       " '3,30',\n",
       " '0:6,5',\n",
       " '1,80',\n",
       " '2,00',\n",
       " '53,5',\n",
       " '1,85',\n",
       " '1,90',\n",
       " '3']"
      ]
     },
     "execution_count": 211,
     "metadata": {},
     "output_type": "execute_result"
    }
   ],
   "source": [
    "important_elements['Freitag, 08.09'][0].strip().split('\\n')"
   ]
  },
  {
   "cell_type": "code",
   "execution_count": 199,
   "metadata": {},
   "outputs": [],
   "source": [
    "data = important_elements['Freitag, 08.09'][0].strip().split('\\n')[0:5]"
   ]
  },
  {
   "cell_type": "code",
   "execution_count": 197,
   "metadata": {},
   "outputs": [],
   "source": [
    "#liste mit den keys\n",
    "keys = list(important_elements.keys())"
   ]
  },
  {
   "cell_type": "code",
   "execution_count": 198,
   "metadata": {},
   "outputs": [
    {
     "data": {
      "text/plain": [
       "['Freitag, 08.09', 'Sonntag, 10.09']"
      ]
     },
     "execution_count": 198,
     "metadata": {},
     "output_type": "execute_result"
    }
   ],
   "source": [
    "keys"
   ]
  },
  {
   "cell_type": "code",
   "execution_count": 200,
   "metadata": {},
   "outputs": [],
   "source": [
    "data.append(keys[0])"
   ]
  },
  {
   "cell_type": "code",
   "execution_count": 201,
   "metadata": {},
   "outputs": [
    {
     "data": {
      "text/plain": [
       "['02:20',\n",
       " 'Kansas City Chiefs',\n",
       " 'Detroit Lions',\n",
       " '1,32',\n",
       " '3,30',\n",
       " 'Freitag, 08.09']"
      ]
     },
     "execution_count": 201,
     "metadata": {},
     "output_type": "execute_result"
    }
   ],
   "source": [
    "data"
   ]
  },
  {
   "cell_type": "code",
   "execution_count": 153,
   "metadata": {},
   "outputs": [],
   "source": [
    "import pandas as pd"
   ]
  },
  {
   "cell_type": "code",
   "execution_count": 202,
   "metadata": {},
   "outputs": [],
   "source": []
  },
  {
   "cell_type": "code",
   "execution_count": 203,
   "metadata": {},
   "outputs": [
    {
     "data": {
      "text/html": [
       "<div>\n",
       "<style scoped>\n",
       "    .dataframe tbody tr th:only-of-type {\n",
       "        vertical-align: middle;\n",
       "    }\n",
       "\n",
       "    .dataframe tbody tr th {\n",
       "        vertical-align: top;\n",
       "    }\n",
       "\n",
       "    .dataframe thead th {\n",
       "        text-align: right;\n",
       "    }\n",
       "</style>\n",
       "<table border=\"1\" class=\"dataframe\">\n",
       "  <thead>\n",
       "    <tr style=\"text-align: right;\">\n",
       "      <th></th>\n",
       "      <th>Time</th>\n",
       "      <th>Team1</th>\n",
       "      <th>Team2</th>\n",
       "      <th>1</th>\n",
       "      <th>2</th>\n",
       "      <th>Date</th>\n",
       "    </tr>\n",
       "  </thead>\n",
       "  <tbody>\n",
       "    <tr>\n",
       "      <th>0</th>\n",
       "      <td>02:20</td>\n",
       "      <td>Kansas City Chiefs</td>\n",
       "      <td>Detroit Lions</td>\n",
       "      <td>1,32</td>\n",
       "      <td>3,30</td>\n",
       "      <td>Freitag, 08.09</td>\n",
       "    </tr>\n",
       "  </tbody>\n",
       "</table>\n",
       "</div>"
      ],
      "text/plain": [
       "    Time               Team1          Team2     1     2            Date\n",
       "0  02:20  Kansas City Chiefs  Detroit Lions  1,32  3,30  Freitag, 08.09"
      ]
     },
     "execution_count": 203,
     "metadata": {},
     "output_type": "execute_result"
    }
   ],
   "source": [
    "pd.DataFrame([data], columns=columns)"
   ]
  }
 ],
 "metadata": {
  "kernelspec": {
   "display_name": "Python 3",
   "language": "python",
   "name": "python3"
  },
  "language_info": {
   "codemirror_mode": {
    "name": "ipython",
    "version": 3
   },
   "file_extension": ".py",
   "mimetype": "text/x-python",
   "name": "python",
   "nbconvert_exporter": "python",
   "pygments_lexer": "ipython3",
   "version": "3.10.11"
  },
  "orig_nbformat": 4
 },
 "nbformat": 4,
 "nbformat_minor": 2
}
